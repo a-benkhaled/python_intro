{
 "cells": [
  {
   "cell_type": "markdown",
   "metadata": {},
   "source": [
    "# Advanced Topics\n",
    "In this section, we will delve into some advanced topics in Python, including `regular expressions`, `functional programming` concepts, `generators`, `iterators`, and `decorators`.\n",
    "\n",
    "## Regular Expressions\n",
    "Regular expressions (regex) are powerful tools for pattern matching and text processing. Python provides the `re` module for working with regular expressions.\n",
    "\n",
    "### Basic Pattern Matching\n",
    "You can use regular expressions to search for specific patterns in strings."
   ]
  },
  {
   "cell_type": "code",
   "execution_count": null,
   "metadata": {},
   "outputs": [],
   "source": [
    "import re\n",
    "\n",
    "text = \"Hello, world! This is a sample text.\"\n",
    "pattern = r'world'\n",
    "matches = re.search(pattern, text)\n",
    "print(matches.group())  "
   ]
  },
  {
   "cell_type": "markdown",
   "metadata": {},
   "source": [
    "### Using Metacharacters\n",
    "Metacharacters allow you to specify more complex patterns."
   ]
  },
  {
   "cell_type": "code",
   "execution_count": null,
   "metadata": {},
   "outputs": [],
   "source": [
    "text = \"The price is $10.99.\"\n",
    "pattern = r'\\$\\d+\\.\\d+'\n",
    "matches = re.search(pattern, text)\n",
    "print(matches.group()) "
   ]
  },
  {
   "cell_type": "markdown",
   "metadata": {},
   "source": [
    "## Functional Programming Concepts\n",
    "Functional programming is a programming paradigm that treats computation as the evaluation of mathematical functions. Python supports functional programming concepts like map(), filter(), and reduce().\n",
    "\n",
    "### map()\n",
    "The map() function applies a function to each item in an iterable."
   ]
  },
  {
   "cell_type": "code",
   "execution_count": null,
   "metadata": {},
   "outputs": [],
   "source": [
    "numbers = [1, 2, 3, 4, 5]\n",
    "squared = map(lambda x: x ** 2, numbers)\n",
    "print(list(squared))  "
   ]
  },
  {
   "cell_type": "markdown",
   "metadata": {},
   "source": [
    "filter()\n",
    "The filter() function filters elements from an iterable based on a function."
   ]
  },
  {
   "cell_type": "code",
   "execution_count": null,
   "metadata": {},
   "outputs": [],
   "source": [
    "numbers = [1, 2, 3, 4, 5]\n",
    "even = filter(lambda x: x % 2 == 0, numbers)\n",
    "print(list(even))"
   ]
  },
  {
   "cell_type": "markdown",
   "metadata": {},
   "source": [
    "### reduce()\n",
    "The reduce() function applies a rolling computation to sequential pairs of elements in an iterable."
   ]
  },
  {
   "cell_type": "code",
   "execution_count": null,
   "metadata": {},
   "outputs": [],
   "source": [
    "from functools import reduce\n",
    "\n",
    "\n",
    "numbers = [1, 2, 3, 4, 5]\n",
    "summed = reduce(lambda x, y: x + y, numbers)\n",
    "print(summed) "
   ]
  },
  {
   "cell_type": "markdown",
   "metadata": {},
   "source": [
    "## Generators and Iterators\n",
    "Generators and iterators are used to work with sequences of data efficiently.\n",
    "\n",
    "### Generators\n",
    "Generators are functions that produce a sequence of values lazily."
   ]
  },
  {
   "cell_type": "code",
   "execution_count": null,
   "metadata": {},
   "outputs": [],
   "source": [
    "def count_up_to(n):\n",
    "    i = 1\n",
    "    while i <= n:\n",
    "        yield i\n",
    "        i += 1\n",
    "\n",
    "for num in count_up_to(5):\n",
    "    print(num) "
   ]
  },
  {
   "cell_type": "markdown",
   "metadata": {},
   "source": [
    "### Iterators\n",
    "Iterators are objects that represent a stream of data.\n",
    "\n"
   ]
  },
  {
   "cell_type": "code",
   "execution_count": null,
   "metadata": {},
   "outputs": [],
   "source": [
    "numbers = [1, 2, 3, 4, 5]\n",
    "iter_obj = iter(numbers)\n",
    "print(next(iter_obj))\n",
    "print(next(iter_obj))"
   ]
  },
  {
   "cell_type": "markdown",
   "metadata": {},
   "source": [
    "### Decorators\n",
    "Decorators are functions that modify the behavior of other functions or methods.\n",
    "\n"
   ]
  },
  {
   "cell_type": "code",
   "execution_count": null,
   "metadata": {},
   "outputs": [],
   "source": [
    "def uppercase_decorator(func):\n",
    "    def wrapper(*args, **kwargs):\n",
    "        result = func(*args, **kwargs)\n",
    "        return result.upper()\n",
    "    return wrapper\n",
    "\n",
    "@uppercase_decorator\n",
    "def greet(name):\n",
    "    return f\"Hello, {name}!\"\n",
    "\n",
    "print(greet(\"Alice\")) "
   ]
  },
  {
   "cell_type": "markdown",
   "metadata": {},
   "source": [
    "## Exercise: Extract Email Addresses\n",
    "Write a Python script to extract email addresses from a text using regular expressions.\n",
    "\n"
   ]
  },
  {
   "cell_type": "markdown",
   "metadata": {},
   "source": [
    "## Small Project: Fibonacci Number Generator\n",
    "Develop a program that generates Fibonacci numbers using both iterative and recursive approaches and compares their performance.\n",
    "\n"
   ]
  }
 ],
 "metadata": {
  "kernelspec": {
   "display_name": ".venv",
   "language": "python",
   "name": "python3"
  },
  "language_info": {
   "name": "python",
   "version": "3.12.3"
  }
 },
 "nbformat": 4,
 "nbformat_minor": 2
}

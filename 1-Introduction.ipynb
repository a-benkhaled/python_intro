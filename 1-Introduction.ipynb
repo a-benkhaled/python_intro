{
  "cells": [
    {
      "cell_type": "markdown",
      "metadata": {
        "id": "qyLSwlxnJqXX"
      },
      "source": [
        "# Algorithms\n",
        "An **algorithm** is a set of **instructions** for solving a particular problem. It specifies the sequence of operations to achieve a specific goal.\n",
        "Algorithms can be found everywhere in computing, from sorting and searching to data compression and machine learning.\n",
        "\n",
        "## Algorithms examples\n",
        "These examples show how algorithms provide a systematic set of instructions to accomplish a task.\n",
        "\n",
        "### Wake Up Algorithm\n",
        "1. Set an alarm for the desired wake-up time ;\n",
        "2. When the alarm rings, turn it off ;\n",
        "3. Get out of bed ;\n",
        "\n",
        "### Morning Routine Algorithm\n",
        "1. Do ablutions ;\n",
        "2. Pray Fajr ;\n",
        "3. Have breakfast ;\n",
        "4. Pack your school bag ;\n",
        "5. Leave for school (by walking, taking the bus, or any other means) ;\n",
        "\n"
      ]
    },
    {
      "cell_type": "markdown",
      "metadata": {},
      "source": [
        "# Python"
      ]
    },
    {
      "cell_type": "markdown",
      "metadata": {
        "id": "3ltwm91eJyQM"
      },
      "source": [
        "Python is a high-level programming language known for its simplicity. Released in **1991**, Python has gained widespread popularity in various fields, including web development, data analysis, scientific computing, machine learning, and more."
      ]
    },
    {
      "cell_type": "markdown",
      "metadata": {},
      "source": [
        "## Why Python ?\n",
        "- **Readability**: Python emphasizes clean and easily *readable code*. Its syntax uses *indentation* to define *code blocks*, promoting consistent and neat code.\n",
        "\n",
        "> *Indentation*: Indentation is the use of spaces or tabs to organize code and show which lines belong together.\\\n",
        "*Code Readability*: Code readability means writing code in a clear way so others can easily understand it.\\\n",
        "*Code Block*: A code block is a group of statements that work together and are usually inside functions, loops, or conditionals.\n",
        "\n",
        "\n",
        "- **Flexibility**: Python is a general-purpose language, meaning it can be used for a wide range of applications. You can build web applications, desktop applications, automation scripts, data analysis tools, and more.\n",
        "\n",
        ">*Web App*: A web app is a program that runs on the internet and is accessed through a web browser.\\\n",
        "*Desktop App*: A desktop app is a program that runs directly on your computer without needing the internet.\\\n",
        "*Automation Scripts*: Automation scripts are programs that perform tasks automatically, saving time and effort.\\\n",
        "*Data Analysis Tools* Data analysis tools are programs that help you process and make sense of data.\n",
        "\n",
        "\n",
        "- **Large Standard Library**: Python comes with a comprehensive standard library that includes modules for various tasks, reducing the need for reinventing the wheel and simplifying development.\n",
        "\n",
        ">*Library*: A library is a collection of useful code you can use in your own programs.\\\n",
        " *Module*: A module is a file with Python code that can be imported and used in other Python programs.\n",
        "\n",
        "\n",
        "- **Cross-Platform**: Python is cross-platform, meaning you can write code on one operating system (e.g., Windows) and run it on another (e.g., Linux or macOS) without major modifications."
      ]
    },
    {
      "cell_type": "markdown",
      "metadata": {},
      "source": [
        "### Applications of Python\n",
        "- Web development: frameworks like Django, Flask, FastAPI, ...\n",
        "- Data analysis and visualization: libraries like Pandas, NumPy, Matplotlib, Seaborn, ..\n",
        "- Automation and scripting: Selenium, PyAutoGUI, Fabric, Requests, ..\n",
        "- Artificial intelligence and machine learning: TensorFlow, PyTorch, Scikit-learn, .."
      ]
    },
    {
      "cell_type": "markdown",
      "metadata": {},
      "source": [
        "### Installation and Setup\n",
        "To install Python, you can download and install the latest version from the official website (https://www.python.org/). Alternatively, you can use package managers like Anaconda or pip to install Python and manage packages."
      ]
    },
    {
      "cell_type": "markdown",
      "metadata": {},
      "source": [
        "### Installing and Creating a Virtual Environment  \n",
        "\n",
        "#### Why Use a Virtual Environment?  \n",
        "A virtual environment helps keep your Python projects isolated, preventing conflicts between different dependencies.  \n",
        "\n",
        "#### How to Create a Virtual Environment?  \n",
        "1. Open a terminal or command prompt.  \n",
        "2. Navigate to your project folder:  \n",
        "   ```bash\n",
        "   cd my_project\n"
      ]
    }
  ],
  "metadata": {
    "colab": {
      "name": "Python basics",
      "provenance": []
    },
    "kernelspec": {
      "display_name": "Python 3",
      "name": "python3"
    },
    "language_info": {
      "codemirror_mode": {
        "name": "ipython",
        "version": 3
      },
      "file_extension": ".py",
      "mimetype": "text/x-python",
      "name": "python",
      "nbconvert_exporter": "python",
      "pygments_lexer": "ipython3",
      "version": "3.8.2"
    }
  },
  "nbformat": 4,
  "nbformat_minor": 0
}

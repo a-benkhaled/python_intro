{
 "cells": [
  {
   "cell_type": "markdown",
   "metadata": {},
   "source": [
    "# Object-Oriented Programming (OOP)\n",
    "In this section, we will explore the principles of object-oriented programming (OOP) in Python, including `classes`, `objects`, `inheritance`, `encapsulation`, and `abstraction`.\n",
    "\n",
    "## Classes and Objects\n",
    "A class is a `blueprint` for creating objects, while an **object is an instance of a class**. Classes encapsulate data for the object and define methods to operate on that data.\n",
    "\n",
    "### Defining a Class\n",
    "To define a class in Python, you use the `class` keyword followed by the class name."
   ]
  },
  {
   "cell_type": "code",
   "execution_count": 1,
   "metadata": {},
   "outputs": [],
   "source": [
    "class Person:\n",
    "    def __init__(self, name, age):\n",
    "        self.name = name\n",
    "        self.age = age\n",
    "\n",
    "    def greet(self):\n",
    "        return f\"Hello, my name is {self.name} and I'm {self.age} years old.\""
   ]
  },
  {
   "cell_type": "markdown",
   "metadata": {},
   "source": [
    "### Creating Objects\n",
    "To create an object from a class, you call the class as if it were a function."
   ]
  },
  {
   "cell_type": "code",
   "execution_count": null,
   "metadata": {},
   "outputs": [],
   "source": [
    "person1 = Person(\"Alice\", 30)\n",
    "person2 = Person(\"Bob\", 25)\n",
    "\n",
    "print(person1.greet())\n",
    "print(person2.greet()) "
   ]
  },
  {
   "cell_type": "markdown",
   "metadata": {},
   "source": [
    "## Inheritance\n",
    "Inheritance is a mechanism where a new class inherits **properties** and **behavior** from an existing class. The existing class is called the base class or superclass, and the new class is called the derived class or subclass."
   ]
  },
  {
   "cell_type": "code",
   "execution_count": 3,
   "metadata": {},
   "outputs": [],
   "source": [
    "# The Student Class inherits from the Person Class\n",
    "class Student(Person):\n",
    "    def __init__(self, name, age, student_id):\n",
    "        super().__init__(name, age)\n",
    "        self.student_id = student_id\n",
    "\n",
    "    def study(self):\n",
    "        return f\"{self.name} is studying.\""
   ]
  },
  {
   "cell_type": "markdown",
   "metadata": {},
   "source": [
    "### Method Overriding\n",
    "Subclasses can override methods of the superclass to provide their own implementation."
   ]
  },
  {
   "cell_type": "code",
   "execution_count": 4,
   "metadata": {},
   "outputs": [
    {
     "name": "stdout",
     "output_type": "stream",
     "text": [
      "Hello, my name is Alice and I'm a student.\n"
     ]
    }
   ],
   "source": [
    "class Student(Person):\n",
    "    def greet(self):\n",
    "        return f\"Hello, my name is {self.name} and I'm a student.\"\n",
    "\n",
    "student = Student(\"Alice\", 20)\n",
    "print(student.greet())"
   ]
  },
  {
   "cell_type": "markdown",
   "metadata": {},
   "source": [
    "## Encapsulation and Abstraction\n",
    "**Encapsulation** is the bundling of `data` and `methods` (that operate on that data) into a single unit. <br/>\n",
    "**Abstraction** is the concept of hiding the internal implementation details of a class from the outside world."
   ]
  },
  {
   "cell_type": "code",
   "execution_count": 5,
   "metadata": {},
   "outputs": [
    {
     "name": "stdout",
     "output_type": "stream",
     "text": [
      "The Toyota Camry has started.\n",
      "The Toyota Camry is already running.\n",
      "The Toyota Camry has stopped.\n",
      "The Toyota Camry is already stopped.\n"
     ]
    }
   ],
   "source": [
    "class Car:\n",
    "    def __init__(self, make, model):\n",
    "        self.make = make\n",
    "        self.model = model\n",
    "        self._is_running = False\n",
    "\n",
    "    def start(self):\n",
    "        if not self._is_running:\n",
    "            self._is_running = True\n",
    "            print(f\"The {self.make} {self.model} has started.\")\n",
    "        else:\n",
    "            print(f\"The {self.make} {self.model} is already running.\")\n",
    "\n",
    "    def stop(self):\n",
    "        if self._is_running:\n",
    "            self._is_running = False\n",
    "            print(f\"The {self.make} {self.model} has stopped.\")\n",
    "        else:\n",
    "            print(f\"The {self.make} {self.model} is already stopped.\")\n",
    "\n",
    "my_car = Car(\"Toyota\", \"Yaris\")\n",
    "\n",
    "# Starting the car\n",
    "my_car.start() \n",
    "\n",
    "# Attempting to start the car again\n",
    "my_car.start() \n",
    "\n",
    "# Stopping the car\n",
    "my_car.stop() \n",
    "\n",
    "# Attempting to stop the car again\n",
    "my_car.stop() "
   ]
  },
  {
   "cell_type": "markdown",
   "metadata": {},
   "source": [
    "These methods `encapsulate` the functionality of starting and stopping the car, and the internal _is_running attribute helps to track whether the car is currently running or not. <br/>\n",
    "This demonstrates the concept of `abstraction`, where the internal implementation details of the Car class are hidden from the user of the class, and only the interface (i.e., the start() and stop() methods) is exposed for interaction."
   ]
  },
  {
   "cell_type": "markdown",
   "metadata": {},
   "source": [
    "## Exercise: Geometric Shape Class\n",
    "Create a class representing a basic geometric shape (e.g., rectangle, circle) with methods to calculate its area and perimeter."
   ]
  },
  {
   "cell_type": "markdown",
   "metadata": {},
   "source": [
    "# Small Project: Library Management System\n",
    "### Description:\n",
    "Create a simple library management system using object-oriented programming principles. The system should allow users to:\n",
    "\n",
    "1. Add new books to the library.\n",
    "2. Display the list of available books.\n",
    "3. Borrow a book.\n",
    "4. Return a book.\n",
    "\n",
    "### Requirements:\n",
    "1. Create a Book class with attributes such as _title_, _author_, _genre_, and _availability_ status.\n",
    "2. Implement methods in the Library class to add new books, display available books, borrow a book (if available), and return a book.\n",
    "3. Ensure that the system maintains a list of borrowed books and updates the availability status accordingly.\n",
    "\n",
    "\n",
    "### Example Usage:\n",
    "```python\n",
    "# Create library object\n",
    "library = Library()\n",
    "\n",
    "# Add new books to the library\n",
    "library.add_book(\"Book 1\", \"Author 1\", \"History\")\n",
    "library.add_book(\"Book 2\", \"Author 2\", \"Religion\")\n",
    "library.add_book(\"Book 3\", \"Author 3\", \"Science\")\n",
    "\n",
    "# Display available books\n",
    "library.display_available_books()\n",
    "\n",
    "# Borrow a book\n",
    "library.borrow_book(\"Book 1\")\n",
    "\n",
    "# Display available books after borrowing\n",
    "library.display_available_books()\n",
    "\n",
    "# Return a book\n",
    "library.return_book(\"Book 1\")\n",
    "\n",
    "# Display available books after returning\n",
    "library.display_available_books()\n",
    "```"
   ]
  }
 ],
 "metadata": {
  "kernelspec": {
   "display_name": ".venv",
   "language": "python",
   "name": "python3"
  },
  "language_info": {
   "codemirror_mode": {
    "name": "ipython",
    "version": 3
   },
   "file_extension": ".py",
   "mimetype": "text/x-python",
   "name": "python",
   "nbconvert_exporter": "python",
   "pygments_lexer": "ipython3",
   "version": "3.12.3"
  }
 },
 "nbformat": 4,
 "nbformat_minor": 2
}

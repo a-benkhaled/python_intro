{
  "cells": [
    {
      "cell_type": "markdown",
      "metadata": {
        "id": "qyLSwlxnJqXX"
      },
      "source": [
        "# Algorithms\n",
        "An **algorithm** is a set of **instructions** for solving a particular problem. It specifies the sequence of operations to achieve a specific goal. Algorithms can be found everywhere in computing, from sorting and searching to data compression and machine learning.\n",
        "\n",
        "## Algorithms examples\n",
        "These examples show how algorithms provide a systematic set of instructions to accomplish a task.\n",
        "\n",
        "### Wake Up Algorithm\n",
        "1. Set an alarm for the desired wake-up time ;\n",
        "2. When the alarm rings, turn it off ;\n",
        "3. Get out of bed ;\n",
        "\n",
        "### Morning Routine Algorithm\n",
        "1. Do ablutions ;\n",
        "2. Pray Fajr ;\n",
        "3. Have breakfast ;\n",
        "4. Pack your school bag ;\n",
        "5. Leave for school (by walking, taking the bus, or any other means) ;\n",
        "\n"
      ]
    },
    {
      "cell_type": "markdown",
      "metadata": {},
      "source": [
        "# Python"
      ]
    },
    {
      "cell_type": "markdown",
      "metadata": {
        "id": "3ltwm91eJyQM"
      },
      "source": [
        "Python is a flexible and powerful high-level programming language known for its simplicity and readability. Created by **Guido van Rossum** and first released in **1991**, Python has gained widespread popularity in various fields, including web development, data analysis, scientific computing, machine learning, and more."
      ]
    },
    {
      "cell_type": "markdown",
      "metadata": {},
      "source": [
        "## Why Python ?\n",
        "- **Readability**: Python emphasizes clean and easily readable code, making it an excellent choice for beginners and experienced programmers alike. Its syntax uses indentation to define code blocks, promoting consistent and neat code.\n",
        "\n",
        "- **Flexibility**: Python is a general-purpose language, meaning it can be used for a wide range of applications. You can build web applications, desktop applications, automation scripts, data analysis tools, and more, all within the same language.\n",
        "\n",
        "- **Large Standard Library**: Python comes with a comprehensive standard library that includes modules for various tasks, reducing the need for reinventing the wheel and simplifying development.\n",
        "\n",
        "- **Community and Ecosystem**: Python has a vibrant and supportive community of developers. This community has contributed to a rich ecosystem of libraries and frameworks that extend Python's capabilities.\n",
        "\n",
        "- **Cross-Platform**: Python is cross-platform, meaning you can write code on one operating system (e.g., Windows) and run it on another (e.g., Linux or macOS) without major modifications."
      ]
    }
  ],
  "metadata": {
    "colab": {
      "name": "Python basics",
      "provenance": []
    },
    "kernelspec": {
      "display_name": "Python 3",
      "name": "python3"
    },
    "language_info": {
      "codemirror_mode": {
        "name": "ipython",
        "version": 3
      },
      "file_extension": ".py",
      "mimetype": "text/x-python",
      "name": "python",
      "nbconvert_exporter": "python",
      "pygments_lexer": "ipython3",
      "version": "3.8.2"
    }
  },
  "nbformat": 4,
  "nbformat_minor": 0
}
